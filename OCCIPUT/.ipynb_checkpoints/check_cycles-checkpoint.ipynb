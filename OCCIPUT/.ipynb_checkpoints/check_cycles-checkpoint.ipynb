{
 "cells": [
  {
   "cell_type": "code",
   "execution_count": 3,
   "metadata": {},
   "outputs": [
    {
     "name": "stdout",
     "output_type": "stream",
     "text": [
      "2015 - 10 :  1-open  ['/home1/ballycotton/DATA/PIRATE/SDL_INTERP/2015/OCCITENS-EDW-SDL-201510.nc']\n",
      "12 6901121  2015-10-02T11:10:20   ##   11 138 2015-07-04T11:07:54.000000000 129602 minutes\n",
      "22 6901122  2015-10-03T10:27:17   ##   4 138 2015-07-05T07:07:17.000000000 129800 minutes\n",
      "50 6901417   not found in argo index\n",
      "76 6901142  2015-10-08T09:01:09   ##   11 106 2015-09-08T11:09:07.000000000 43072 minutes\n",
      "114 6901121  2015-10-12T11:07:37   ##   11 138 2015-07-04T11:07:54.000000000 143999 minutes\n",
      "121 6901122  2015-10-13T07:06:30   ##   4 138 2015-07-05T07:07:17.000000000 143999 minutes\n",
      "156 6901417   not found in argo index\n",
      "168 1901218  2015-10-17T22:02:00   ##   68 151 2015-09-07T21:56:00.000000000 57606 minutes\n",
      "176 6901142  2015-10-18T11:11:46   ##   11 106 2015-09-08T11:09:07.000000000 57602 minutes\n",
      "215 6901121  2015-10-22T07:38:25   ##   11 138 2015-07-04T11:07:54.000000000 158190 minutes\n",
      "220 6901122  2015-10-23T10:20:30   ##   4 138 2015-07-05T07:07:17.000000000 158593 minutes\n",
      "257 6901417   not found in argo index\n",
      "278 6901142  2015-10-28T11:24:20   ##   11 106 2015-09-08T11:09:07.000000000 72015 minutes\n"
     ]
    }
   ],
   "source": [
    "import xarray as xr\n",
    "import numpy as np\n",
    "import datetime\n",
    "import glob\n",
    "import os\n",
    "import gsw\n",
    "import pandas as pd\n",
    "import matplotlib.pyplot as plt\n",
    "\n",
    "yeart='2015'\n",
    "montht='10'\n",
    "\n",
    "#DATE REF\n",
    "date_1 = datetime.datetime.strptime('01/01/1950', \"%m/%d/%Y\")\n",
    "\n",
    "ROOT = '/home1/ballycotton/DATA/PIRATE/SDL_INTERP/'+yeart+'/'\n",
    "path = glob.glob(os.path.join(ROOT+'*'+montht+'.nc'))\n",
    "print yeart,'-',montht,': ','1-open ',path\n",
    "#CUSTOM INDEX ARGO\n",
    "ARGO=xr.open_dataset('argo_index_2005-2015_EDW.nc')\n",
    "#OPEN\n",
    "OCC=xr.open_mfdataset(path,decode_times=False)\n",
    "\n",
    "#DELTA TIMES FOR MISSING CYCLE_NUMBER\n",
    "#When interpolation was done, delta max was set to 10min but 24h seems legit...\n",
    "#Should probably make a \"Why give a damn on time encoding can save some (actual) time\" talk someday\n",
    "\n",
    "OCC.CYCLE_NUMBER.load()\n",
    "for k in OCC.N_OBS.values:\n",
    "    if np.isnan(OCC.CYCLE_NUMBER[k].values):      \n",
    "        AA=ARGO.where(ARGO.wmo==int(OCC.STATION_IDENTIFIER[k].values),drop=True)  \n",
    "        if len(AA.index)>0:\n",
    "            dx=date_1 + datetime.timedelta(days=float(OCC.JULD[k].values))\n",
    "            CC=np.array(dx.strftime('%Y-%m-%dT%H:%M:%S'),dtype='datetime64')\n",
    "            delta=np.abs(CC-AA.date.values).min()\n",
    "            indw=np.abs(CC-AA.date.values).argmin()\n",
    "            print k,OCC.STATION_IDENTIFIER[k].values,CC,'  ##  ',indw,AA.cycle_cumber[indw].values,\\\n",
    "            AA.date[indw].values,np.timedelta64(delta,'m')          \n",
    "            #if delta<=np.timedelta64(24,'h'):                \n",
    "            #    #ASSIGN CYCLE_NUMBER\n",
    "            #    OCC.CYCLE_NUMBER[k]=AA.cycle_cumber[indw].values            \n",
    "        else:\n",
    "            print k,OCC.STATION_IDENTIFIER[k].values,' not found in argo index'    "
   ]
  },
  {
   "cell_type": "code",
   "execution_count": 69,
   "metadata": {},
   "outputs": [
    {
     "name": "stdout",
     "output_type": "stream",
     "text": [
      "float 64 :  2018-10-20 13:15:00\n",
      "float 32 :  2018-10-21 13:15:56.250000\n"
     ]
    }
   ],
   "source": [
    "my_bday=np.array(25129.55208333333,dtype='float64')\n",
    "print 'float 64 : ',str(date_1 + datetime.timedelta(days=my_bday.item()))\n",
    "\n",
    "my_bday=np.array(25130.55208333333,dtype='float32')\n",
    "print 'float 32 : ',str(date_1 + datetime.timedelta(days=my_bday.item()))"
   ]
  },
  {
   "cell_type": "code",
   "execution_count": null,
   "metadata": {},
   "outputs": [],
   "source": [
    "## CASE STUDY\n",
    "ks=44\n",
    "indw=0\n",
    "\n",
    "AA=ARGO.where(ARGO.wmo==int(OCC.STATION_IDENTIFIER[ks].values),drop=True)\n",
    "# ERDDAP CONF & CALL\n",
    "uri = (\n",
    "    'http://www.ifremer.fr/erddap/tabledap/ArgoFloats.csv'\n",
    "    '?time,pres,temp,psal'\n",
    "    '&platform_number={}'\n",
    "    '&cycle_number={}').format  \n",
    "url = uri(    \n",
    "    '\\\"'+OCC.STATION_IDENTIFIER[ks].values.item().strip()+'\\\"',\n",
    "    int(AA.cycle_cumber[indw].values.item())\n",
    ")\n",
    "print \"Loading data from Ifremer erddap of Argo:\\n\",url\n",
    "df = pd.read_csv(url, parse_dates=True, skiprows=[1])\n",
    "\n",
    "%matplotlib notebook\n",
    "f, (ax1, ax2) = plt.subplots(1, 2, sharey=True)\n",
    "ax1.invert_yaxis()\n",
    "ax1.grid(True)\n",
    "ax2.grid(True)\n",
    "f.suptitle(str(date_1 + datetime.timedelta(days=float(OCC.JULD[ks].values)))+' - '+str(AA.date[indw].values))\n",
    "l1,=ax1.plot(OCC.TEMP_OBS[ks,:].values, gsw.p_from_z(OCC.STANDARD_LEVELS.values,OCC.LATITUDE[ks].values), 'b.',label='interp OCCIPUT')\n",
    "l2,=ax1.plot(df['temp'],df['pres'],'r.',label='ERDDAP')\n",
    "ax1.set_xlabel('TEMP')\n",
    "ax1.set_ylabel('PRES')\n",
    "ax1.legend(handles=[l1, l2])\n",
    "\n",
    "ax2.plot(OCC.PSAL_OBS[ks,:].values, gsw.p_from_z(OCC.STANDARD_LEVELS.values,OCC.LATITUDE[ks].values), 'b.')\n",
    "ax2.plot(df['psal'],df['pres'],'r.')\n",
    "ax2.set_xlabel('PSAL')\n"
   ]
  },
  {
   "cell_type": "code",
   "execution_count": null,
   "metadata": {
    "collapsed": true
   },
   "outputs": [],
   "source": [
    "#SAVE NEW FILE\n",
    "#OCC.to_netcdf(path[0][:-3]+'_v2.nc')"
   ]
  }
 ],
 "metadata": {
  "kernelspec": {
   "display_name": "Python 2",
   "language": "python",
   "name": "python2"
  },
  "language_info": {
   "codemirror_mode": {
    "name": "ipython",
    "version": 2
   },
   "file_extension": ".py",
   "mimetype": "text/x-python",
   "name": "python",
   "nbconvert_exporter": "python",
   "pygments_lexer": "ipython2",
   "version": "2.7.14"
  }
 },
 "nbformat": 4,
 "nbformat_minor": 2
}
