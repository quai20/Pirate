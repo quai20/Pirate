{
 "cells": [
  {
   "cell_type": "code",
   "execution_count": 30,
   "metadata": {
    "collapsed": true
   },
   "outputs": [],
   "source": [
    "### import numpy as np\n",
    "import xarray as xr\n",
    "import glob\n",
    "import os\n",
    "import matplotlib.pyplot as plt\n",
    "import datetime\n",
    "import numpy as np\n",
    "import pandas as pd\n",
    "\n",
    "#DATE REF\n",
    "date_1 = datetime.datetime.strptime('01/01/1950', \"%m/%d/%Y\")\n",
    "\n",
    "#YEAR TO PROCESS\n",
    "yeart='2013'\n",
    "montht='01'\n",
    "\n",
    "ROOT = '/home1/ballycotton/DATA/PIRATE/COLOC_EN4/'+yeart+'/'\n",
    "path = glob.glob(os.path.join(ROOT+'*'+montht+'.nc'))\n",
    "\n",
    "#CUSTOM INDEX ARGO\n",
    "ARGO=xr.open_dataset('argo_index_2005-2015_EDW.nc')\n",
    "#OPEN\n",
    "OCC=xr.open_mfdataset(path,concat_dim='N_OBS',decode_times=False,mask_and_scale=True)\n",
    "#MATCH FILTER\n",
    "OCC=OCC.where((OCC.MATCH_EN4==1),drop=True)\n",
    "#DROP SOME USELESS VARIABLES FOR INTERPOLATION\n",
    "OCC=OCC.drop(['JULD','MATCH_EN4','LATITUDE_EN4','LONGITUDE_EN4',\n",
    "              'PSAL_EN4','DEPTH_EN4','POTM_EN4','POTM_EN4_QC',\n",
    "              'PSAL_EN4_QC','TEMP_EN4'])\n",
    "\n",
    "OCC=OCC.rename({'JULD_EN4': 'JULD'})\n",
    "OCC=OCC.squeeze()\n",
    "\n",
    "#CORRECT Q PREFIX FOR OCCIPUT ARGO WMO\n",
    "idq=[i for i,item in enumerate(OCC.STATION_IDENTIFIER.values) if \"Q\" in item]\n",
    "for k in idq:\n",
    "    aa=str(OCC.STATION_IDENTIFIER[k].values)     \n",
    "    OCC.STATION_IDENTIFIER.load()\n",
    "    OCC.STATION_IDENTIFIER[:,k]=aa[1:]+' '    \n",
    "    \n",
    "l1=len(OCC.N_OBS)    "
   ]
  },
  {
   "cell_type": "code",
   "execution_count": 31,
   "metadata": {},
   "outputs": [
    {
     "name": "stdout",
     "output_type": "stream",
     "text": [
      "6  profiles dropped by QC filtering\n"
     ]
    }
   ],
   "source": [
    "#QC FILTER\n",
    "mask=((~np.isnan(np.abs(OCC.POTM_OBS))) & (~np.isnan(np.abs(OCC.PSAL_OBS))) & \\\n",
    "     (OCC.PSAL_QC == 1.) & (OCC.POTM_QC == 1.) & (~np.isnan(OCC.POTM_Hx)) & (~np.isnan(OCC.PSAL_Hx)))\n",
    "OCC=OCC.where((mask.transpose()),drop=True)\n",
    "\n",
    "# Redundant information through the N_MEMBER dimension:\n",
    "vlist = ['PSAL_QC','DEPTH','STATION_IDENTIFIER','PSAL_OBS','JULD',\n",
    "         'POTM_QC','LONGITUDE','LATITUDE','TEMP_OBS','POTM_OBS']\n",
    "for v in vlist:\n",
    "    OCC[v] = OCC[v].isel(N_MEMBER=0)\n",
    "\n",
    "# ALIGN VARIABLES ALONG ONE DIMENSION \n",
    "OCC['A']=OCC.JULD.min(dim='N_LEVELS')\n",
    "OCC['B']=OCC.STATION_IDENTIFIER.min(dim='N_LEVELS')\n",
    "OCC['C']=OCC.LATITUDE.min(dim='N_LEVELS')\n",
    "OCC['D']=OCC.LONGITUDE.min(dim='N_LEVELS')\n",
    "OCC=OCC.drop(['JULD','STATION_IDENTIFIER','LATITUDE','LONGITUDE'])\n",
    "OCC=OCC.rename({'A':'JULD','B':'STATION_IDENTIFIER','C':'LATITUDE','D':'LONGITUDE'})\n",
    "print l1-len(OCC.N_OBS),' profiles dropped by QC filtering'\n",
    "l1=len(OCC.N_OBS)"
   ]
  },
  {
   "cell_type": "code",
   "execution_count": 32,
   "metadata": {},
   "outputs": [
    {
     "name": "stdout",
     "output_type": "stream",
     "text": [
      "74  profiles dropped by density filtering\n"
     ]
    }
   ],
   "source": [
    "#KEEP PROFILES WITH AT LEAST 10 VALUES OVER A 1000M LAYER\n",
    "OCC['N']=OCC['POTM_OBS'].notnull().sum('N_LEVELS')\n",
    "#OCC['N'] = OCC['N'].isel(N_MEMBER=0)\n",
    "H1=OCC['DEPTH'].where(OCC['POTM_OBS'].notnull()).max(dim='N_LEVELS')\n",
    "H2=OCC['DEPTH'].where(OCC['POTM_OBS'].notnull()).min(dim='N_LEVELS')\n",
    "OCC['H']=H1-H2\n",
    "#OCC['H'] = OCC['H'].isel(N_MEMBER=0)\n",
    "OCC['KEEP'] = xr.DataArray(np.all((OCC['H'] >= 1000, OCC['N'] >= 10), axis=0),dims= {'N_OBS':OCC['N_OBS']})\n",
    "OCC = OCC.where(OCC['KEEP'], drop=True)\n",
    "OCC = OCC.drop(['N', 'H', 'KEEP'])\n",
    "print l1-len(OCC.N_OBS),' profiles dropped by density filtering'"
   ]
  },
  {
   "cell_type": "code",
   "execution_count": 33,
   "metadata": {},
   "outputs": [
    {
     "name": "stdout",
     "output_type": "stream",
     "text": [
      "1162.07259869\n"
     ]
    }
   ],
   "source": [
    "OCC2=OCC.DEPTH.where(OCC.DEPTH.max('N_LEVELS')<1500,drop=True)\n",
    "print OCC2.max('N_LEVELS').mean().values"
   ]
  },
  {
   "cell_type": "code",
   "execution_count": 34,
   "metadata": {},
   "outputs": [
    {
     "name": "stdout",
     "output_type": "stream",
     "text": [
      "186  profiles < 1500m\n"
     ]
    }
   ],
   "source": [
    "#KEEP PROFILES WITH DEPTH>1500\n",
    "lp=len(OCC.N_OBS)\n",
    "OCC=OCC.where(OCC.DEPTH.max('N_LEVELS')>1500,drop=True)\n",
    "print lp-len(OCC.N_OBS),' profiles < 1500m'"
   ]
  },
  {
   "cell_type": "code",
   "execution_count": 4,
   "metadata": {},
   "outputs": [
    {
     "name": "stdout",
     "output_type": "stream",
     "text": [
      "30  profiles < 1500m\n"
     ]
    },
    {
     "name": "stderr",
     "output_type": "stream",
     "text": [
      "/opt/anaconda2/lib/python2.7/site-packages/scipy/interpolate/interpolate.py:635: RuntimeWarning: invalid value encountered in greater\n",
      "  above_bounds = x_new > self.x[-1]\n"
     ]
    },
    {
     "name": "stdout",
     "output_type": "stream",
     "text": [
      "interpolation to standard levels done\n"
     ]
    }
   ],
   "source": [
    "from interpClass import InterpProfile\n",
    "#STANDARD LEVELS\n",
    "sdl = np.arange(0,-1500.,-5.)\n",
    "\n",
    "#INTERP OBS+MODEL\n",
    "interpoler = InterpProfile(axis=sdl, method='linear')\n",
    "potm_obs_lin=np.empty([len(OCC.N_OBS),len(sdl)])\n",
    "psal_obs_lin=np.empty([len(OCC.N_OBS),len(sdl)])\n",
    "temp_obs_lin=np.empty([len(OCC.N_OBS),len(sdl)])\n",
    "potm_hx_lin=np.empty([len(OCC.N_MEMBER),len(OCC.N_OBS),len(sdl)])\n",
    "psal_hx_lin=np.empty([len(OCC.N_MEMBER),len(OCC.N_OBS),len(sdl)])\n",
    "\n",
    "for i in OCC.N_OBS.values:\n",
    "    potm = OCC['POTM_OBS'].values[i,:] # Profile to interpolate\n",
    "    psal = OCC['PSAL_OBS'].values[i,:]\n",
    "    temp = OCC['TEMP_OBS'].values[i,:]\n",
    "    dpt = -OCC['DEPTH'].values[i,:] \n",
    "    potm_obs_lin[i,:] = interpoler.fit_transform(potm, dpt)\n",
    "    psal_obs_lin[i,:] = interpoler.fit_transform(psal, dpt)\n",
    "    temp_obs_lin[i,:] = interpoler.fit_transform(temp, dpt)\n",
    "    for j in OCC.N_MEMBER.values:\n",
    "        potm_hx = OCC['POTM_Hx'].values[j,i,:] # Profile to interpolate\n",
    "        psal_hx = OCC['PSAL_Hx'].values[j,i,:]\n",
    "        potm_hx_lin[j,i,:] = interpoler.fit_transform(potm_hx, dpt)\n",
    "        psal_hx_lin[j,i,:] = interpoler.fit_transform(psal_hx, dpt)\n",
    "print \"interpolation to standard levels done\""
   ]
  },
  {
   "cell_type": "code",
   "execution_count": 14,
   "metadata": {},
   "outputs": [
    {
     "name": "stdout",
     "output_type": "stream",
     "text": [
      "2006-10-01T03:29:57 2006-10-01T03:29:57.000000000 000 0 nanoseconds\n",
      "2006-10-01T10:30:56 2006-10-01T10:30:56.000000000 001 0 nanoseconds\n",
      "2006-10-01T23:54:52 2006-10-01T23:54:52.000000000 124 0 nanoseconds\n",
      "2006-10-02T10:30:30 2006-10-02T10:30:30.000000000 002 0 nanoseconds\n",
      "2006-10-02T13:53:40 2006-10-02T13:53:40.000000000 009 0 nanoseconds\n",
      "2006-10-02T18:17:00 2006-10-02T18:17:00.000000000 111 0 nanoseconds\n",
      "2006-10-02T23:26:28 2006-10-02T23:26:28.000000000 000 0 nanoseconds\n",
      "2006-10-03T10:31:56 2006-10-03T10:31:56.000000000 003 0 nanoseconds\n",
      "2006-10-03T13:04:28 2006-10-03T13:04:28.000000000 005 0 nanoseconds\n",
      "2006-10-04T10:31:02 2006-10-04T10:31:02.000000000 004 0 nanoseconds\n",
      "2006-10-05T06:21:00 2006-10-05T06:21:00.000000000 166 0 nanoseconds\n",
      "2006-10-05T08:32:34 2006-10-05T08:32:34.000000000 058 0 nanoseconds\n",
      "2006-10-05T10:33:20 2006-10-05T10:33:20.000000000 005 0 nanoseconds\n",
      "2006-10-05T12:36:28 2006-10-05T12:36:28.000000000 059 0 nanoseconds\n",
      "2006-10-05T12:36:35 2006-10-05T12:36:35.000000000 005 0 nanoseconds\n",
      "2006-10-05T12:36:42 2006-10-05T12:36:42.000000000 002 0 nanoseconds\n",
      "2006-10-06T01:43:00 2006-10-06T01:43:00.000000000 034 0 nanoseconds\n",
      "2006-10-06T09:13:00 2006-10-06T09:13:00.000000000 086 0 nanoseconds\n",
      "2006-10-06T10:31:22 2006-10-06T10:31:22.000000000 006 0 nanoseconds\n",
      "2006-10-06T13:54:49 2006-10-06T13:54:49.000000000 002 0 nanoseconds\n",
      "2006-10-06T13:56:02 2006-10-06T13:56:02.000000000 005 0 nanoseconds\n",
      "2006-10-07T10:32:16 2006-10-07T10:32:16.000000000 007 0 nanoseconds\n",
      "2006-10-07T13:33:21 2006-10-07T13:33:21.000000000 002 0 nanoseconds\n",
      "2006-10-07T13:36:12 2006-10-07T13:36:12.000000000 002 0 nanoseconds\n",
      "2006-10-08T07:24:00 2006-10-08T07:24:00.000000000 071 0 nanoseconds\n",
      "2006-10-08T10:30:54 2006-10-08T10:30:54.000000000 008 0 nanoseconds\n",
      "2006-10-08T13:10:56 2006-10-08T13:10:56.000000000 002 0 nanoseconds\n",
      "2006-10-08T13:10:50 2006-10-08T13:10:50.000000000 025 0 nanoseconds\n",
      "2006-10-08T13:18:21 2006-10-08T13:18:21.000000000 002 0 nanoseconds\n",
      "2006-10-08T16:11:00 2006-10-08T16:11:00.000000000 089 0 nanoseconds\n",
      "2006-10-08T18:51:00 2006-10-08T18:51:00.000000000 035 0 nanoseconds\n",
      "2006-10-09T02:15:00 2006-10-09T02:15:00.000000000 001 0 nanoseconds\n",
      "2006-10-09T10:31:58 2006-10-09T10:31:58.000000000 009 0 nanoseconds\n",
      "2006-10-09T10:34:29 2006-10-09T10:34:29.000000000 024 0 nanoseconds\n",
      "2006-10-09T12:47:13 2006-10-09T12:47:13.000000000 038 0 nanoseconds\n",
      "2006-10-09T12:48:56 2006-10-09T12:48:56.000000000 085 0 nanoseconds\n",
      "2006-10-09T13:38:14 2006-10-09T13:38:14.000000000 002 0 nanoseconds\n",
      "2006-10-10T10:30:04 2006-10-10T10:30:04.000000000 010 0 nanoseconds\n",
      "2006-10-10T12:22:52 2006-10-10T12:22:52.000000000 085 0 nanoseconds\n",
      "2006-10-10T14:03:37 2006-10-10T14:03:37.000000000 010 0 nanoseconds\n",
      "2006-10-10T15:48:00 2006-10-10T15:48:00.000000000 167 0 nanoseconds\n",
      "2006-10-10T23:42:57 2006-10-10T23:42:57.000000000 059 0 nanoseconds\n",
      "2006-10-12T03:45:16 2006-10-12T03:45:16.000000000 125 0 nanoseconds\n",
      "2006-10-12T10:30:58 2006-10-12T10:30:58.000000000 012 0 nanoseconds\n",
      "2006-10-12T13:23:32 2006-10-12T13:23:32.000000000 001 0 nanoseconds\n",
      "2006-10-12T13:24:10 2006-10-12T13:24:10.000000000 010 0 nanoseconds\n",
      "2006-10-12T14:27:00 2006-10-12T14:27:00.000000000 112 0 nanoseconds\n",
      "2006-10-13T12:34:02 2006-10-13T12:34:02.000000000 006 0 nanoseconds\n",
      "2006-10-15T06:05:00 2006-10-15T06:05:00.000000000 167 0 nanoseconds\n",
      "2006-10-15T12:10:39 2006-10-15T12:10:39.000000000 060 0 nanoseconds\n",
      "2006-10-15T13:45:54 2006-10-15T13:45:54.000000000 003 0 nanoseconds\n",
      "2006-10-15T13:46:15 2006-10-15T13:46:15.000000000 006 0 nanoseconds\n",
      "2006-10-16T01:13:00 2006-10-16T01:13:00.000000000 035 0 nanoseconds\n",
      "2006-10-16T09:59:00 2006-10-16T09:59:00.000000000 087 0 nanoseconds\n",
      "2006-10-16T13:24:22 2006-10-16T13:24:22.000000000 003 0 nanoseconds\n",
      "2006-10-16T13:25:26 2006-10-16T13:25:26.000000000 006 0 nanoseconds\n",
      "2006-10-16T15:03:36 2006-10-16T15:03:36.000000000 060 0 nanoseconds\n",
      "2006-10-17T12:55:55 2006-10-17T12:55:55.000000000 003 0 nanoseconds\n",
      "2006-10-17T13:04:38 2006-10-17T13:04:38.000000000 003 0 nanoseconds\n",
      "2006-10-18T07:32:00 2006-10-18T07:32:00.000000000 072 0 nanoseconds\n",
      "2006-10-18T12:39:59 2006-10-18T12:39:59.000000000 026 0 nanoseconds\n",
      "2006-10-18T12:43:39 2006-10-18T12:43:39.000000000 003 0 nanoseconds\n",
      "2006-10-18T13:11:21 2006-10-18T13:11:21.000000000 003 0 nanoseconds\n",
      "2006-10-18T13:11:00 2006-10-18T13:11:00.000000000 090 0 nanoseconds\n",
      "2006-10-18T16:03:00 2006-10-18T16:03:00.000000000 036 0 nanoseconds\n",
      "2006-10-19T12:17:18 2006-10-19T12:17:18.000000000 039 0 nanoseconds\n",
      "2006-10-19T12:22:21 2006-10-19T12:22:21.000000000 086 0 nanoseconds\n",
      "2006-10-19T12:58:26 2006-10-19T12:58:26.000000000 003 0 nanoseconds\n",
      "2006-10-19T20:05:00 2006-10-19T20:05:00.000000000 002 0 nanoseconds\n",
      "2006-10-20T13:39:22 2006-10-20T13:39:22.000000000 086 0 nanoseconds\n",
      "2006-10-21T13:30:34 2006-10-21T13:30:34.000000000 013 0 nanoseconds\n",
      "2006-10-21T23:55:00 2006-10-21T23:55:00.000000000 001 0 nanoseconds\n",
      "2006-10-22T05:37:19 2006-10-22T05:37:19.000000000 061 0 nanoseconds\n",
      "2006-10-22T07:20:09 2006-10-22T07:20:09.000000000 126 0 nanoseconds\n",
      "2006-10-22T13:58:50 2006-10-22T13:58:50.000000000 011 0 nanoseconds\n",
      "2006-10-22T13:58:09 2006-10-22T13:58:09.000000000 002 0 nanoseconds\n",
      "2006-10-22T17:48:00 2006-10-22T17:48:00.000000000 113 0 nanoseconds\n",
      "2006-10-23T12:28:01 2006-10-23T12:28:01.000000000 007 0 nanoseconds\n",
      "2006-10-24T21:25:23 2006-10-24T21:25:23.000000000 027 0 nanoseconds\n",
      "2006-10-25T13:16:06 2006-10-25T13:16:06.000000000 004 0 nanoseconds\n",
      "2006-10-25T13:18:56 2006-10-25T13:18:56.000000000 061 0 nanoseconds\n",
      "2006-10-25T13:19:56 2006-10-25T13:19:56.000000000 007 0 nanoseconds\n",
      "2006-10-25T16:40:00 2006-10-25T16:40:00.000000000 001 0 nanoseconds\n",
      "2006-10-26T06:43:00 2006-10-26T06:43:00.000000000 036 0 nanoseconds\n",
      "2006-10-26T09:20:00 2006-10-26T09:20:00.000000000 088 0 nanoseconds\n",
      "2006-10-26T12:54:16 2006-10-26T12:54:16.000000000 004 0 nanoseconds\n",
      "2006-10-26T12:55:59 2006-10-26T12:55:59.000000000 007 0 nanoseconds\n",
      "2006-10-27T12:55:29 2006-10-27T12:55:29.000000000 004 0 nanoseconds\n",
      "2006-10-27T12:56:53 2006-10-27T12:56:53.000000000 004 0 nanoseconds\n",
      "2006-10-27T21:52:14 2006-10-27T21:52:14.000000000 062 0 nanoseconds\n",
      "2006-10-28T06:52:00 2006-10-28T06:52:00.000000000 073 0 nanoseconds\n",
      "2006-10-28T12:09:30 2006-10-28T12:09:30.000000000 027 0 nanoseconds\n",
      "2006-10-28T12:39:41 2006-10-28T12:39:41.000000000 004 0 nanoseconds\n",
      "2006-10-28T13:51:53 2006-10-28T13:51:53.000000000 004 0 nanoseconds\n",
      "2006-10-28T15:34:00 2006-10-28T15:34:00.000000000 037 0 nanoseconds\n",
      "2006-10-28T16:03:00 2006-10-28T16:03:00.000000000 091 0 nanoseconds\n",
      "2006-10-29T12:25:19 2006-10-29T12:25:19.000000000 040 0 nanoseconds\n",
      "2006-10-29T12:27:07 2006-10-29T12:27:07.000000000 087 0 nanoseconds\n",
      "2006-10-29T13:29:10 2006-10-29T13:29:10.000000000 004 0 nanoseconds\n",
      "2006-10-29T19:47:00 2006-10-29T19:47:00.000000000 003 0 nanoseconds\n",
      "2006-10-30T13:53:07 2006-10-30T13:53:07.000000000 012 0 nanoseconds\n",
      "2006-10-30T13:54:23 2006-10-30T13:54:23.000000000 087 0 nanoseconds\n",
      "2006-10-31T13:29:22 2006-10-31T13:29:22.000000000 014 0 nanoseconds\n",
      "2006-10-31T21:57:00 2006-10-31T21:57:00.000000000 002 0 nanoseconds\n"
     ]
    }
   ],
   "source": [
    "#GET CYCLE NUMBER FROM ARGO INDEX WITH NEAREST DATE\n",
    "cycles=np.array([])\n",
    "for k in OCC.N_OBS.values:\n",
    "    AA=ARGO.where(ARGO.wmo==int(OCC.STATION_IDENTIFIER[k].values),drop=True)\n",
    "    if len(AA.index)>0:\n",
    "        dx=date_1 + datetime.timedelta(days=float(OCC.JULD[k].values))\n",
    "        CC=np.array(dx.strftime('%Y-%m-%dT%H:%M:%S'),dtype='datetime64')\n",
    "        indw=np.abs(CC-AA.date.values).argmin()\n",
    "        print CC,AA.date.values[indw],AA.cycle_cumber.values[indw],np.abs(CC-AA.date.values).min()\n",
    "        if np.abs(CC-AA.date.values).min() < np.timedelta64(1,'s') :\n",
    "            cycles=np.append(cycles,int(AA.cycle_cumber.values[indw]))    \n",
    "        else:\n",
    "            cycles=np.append(cycles,np.nan)            \n",
    "    else:\n",
    "        cycles=np.append(cycles,np.nan)                    "
   ]
  },
  {
   "cell_type": "code",
   "execution_count": null,
   "metadata": {
    "collapsed": true
   },
   "outputs": [],
   "source": [
    "#BUILD FINAL DATASET\n",
    "#INIT FINAL DATASET\n",
    "fds= xr.Dataset({'STATION_IDENTIFIER': (['N_OBS'], OCC.STATION_IDENTIFIER.values),\n",
    "                 'LATITUDE': (['N_OBS'], OCC.LATITUDE.values), \n",
    "                 'LONGITUDE': (['N_OBS'], OCC.LONGITUDE.values), \n",
    "                 'JULD': (['N_OBS'], OCC.JULD.values), \n",
    "                 'CYCLE_NUMBER': (['N_OBS'], cycles), \n",
    "                 'STANDARD_LEVELS': (['N_LEVELS'], sdl),                 \n",
    "                 'POTM_OBS': (['N_OBS','N_LEVELS'], potm_obs_lin),\n",
    "                 'POTM_Hx': (['N_MEMBER','N_OBS','N_LEVELS'], potm_hx_lin),\n",
    "                 'PSAL_OBS': (['N_OBS','N_LEVELS'], psal_obs_lin),                 \n",
    "                 'PSAL_Hx': (['N_MEMBER','N_OBS','N_LEVELS'], psal_hx_lin),\n",
    "                 'TEMP_OBS': (['N_OBS','N_LEVELS'], temp_obs_lin)                             \n",
    "                })\n",
    "\n",
    "fds.JULD.attrs['_FillValue']=99999.0\n",
    "fds.JULD.attrs['long_name']='Julian date of observation'\n",
    "fds.CYCLE_NUMBER.attrs['_FillValue']=99999.0\n",
    "fds.CYCLE_NUMBER.attrs['long_name']='Cycle number retrieved from argo index'\n",
    "fds.LATITUDE.attrs['_FillValue']=99999.0\n",
    "fds.LATITUDE.attrs['long_name']='Latitude of observation'\n",
    "fds.LONGITUDE.attrs['_FillValue']=99999.0\n",
    "fds.LONGITUDE.attrs['long_name']='Longitude of observation'\n",
    "fds.STANDARD_LEVELS.attrs['_FillValue']=99999.0\n",
    "fds.STANDARD_LEVELS.attrs['long_name']='Standard levels'\n",
    "fds.POTM_OBS.attrs['_FillValue']=99999.0\n",
    "fds.POTM_OBS.attrs['long_name']='Potential temperature of observation interpolated on std levels'\n",
    "fds.POTM_Hx.attrs['_FillValue']=99999.0\n",
    "fds.POTM_Hx.attrs['long_name']='Model interpolated potential temperature interpolated on std levels'\n",
    "fds.PSAL_OBS.attrs['_FillValue']=99999.0\n",
    "fds.PSAL_OBS.attrs['long_name']='Practical salinity of observation interpolated on std levels'\n",
    "fds.PSAL_Hx.attrs['_FillValue']=99999.0\n",
    "fds.PSAL_Hx.attrs['long_name']='Model interpolated practical salinity interpolated on std levels'\n",
    "fds.TEMP_OBS.attrs['_FillValue']=99999.0\n",
    "fds.TEMP_OBS.attrs['long_name']='Temperature of observation interpolated on std levels'\n",
    "print fds\n",
    "fds.to_netcdf('/export/home1/DATA/PIRATE/SDL_INTERP/'+yeart+'/OCCITENS-EDW-SDL-'+yeart+montht+'.nc')"
   ]
  }
 ],
 "metadata": {
  "kernelspec": {
   "display_name": "Python 2",
   "language": "python",
   "name": "python2"
  },
  "language_info": {
   "codemirror_mode": {
    "name": "ipython",
    "version": 2
   },
   "file_extension": ".py",
   "mimetype": "text/x-python",
   "name": "python",
   "nbconvert_exporter": "python",
   "pygments_lexer": "ipython2",
   "version": "2.7.14"
  }
 },
 "nbformat": 4,
 "nbformat_minor": 2
}
