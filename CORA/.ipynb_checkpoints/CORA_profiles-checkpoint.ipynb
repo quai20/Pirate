{
 "cells": [
  {
   "cell_type": "code",
   "execution_count": 57,
   "metadata": {},
   "outputs": [
    {
     "name": "stdout",
     "output_type": "stream",
     "text": [
      "/home/datawork-coriolis-cora-s/CORA_dataset/1975/CO_DMQCGL01_19751104_PR_ME.nc 771 / 915\n"
     ]
    },
    {
     "data": {
      "text/plain": [
       "<xarray.Dataset>\n",
       "Dimensions:              (N_LEVELS: 58, N_PROF: 3)\n",
       "Dimensions without coordinates: N_LEVELS, N_PROF\n",
       "Data variables:\n",
       "    PLATFORM_NUMBER      (N_PROF) object ...\n",
       "    CYCLE_NUMBER         (N_PROF) float64 ...\n",
       "    WMO_INST_TYPE        (N_PROF) object ...\n",
       "    JULD                 (N_PROF) float64 ...\n",
       "    JULD_QC              (N_PROF) object ...\n",
       "    LATITUDE             (N_PROF) float64 ...\n",
       "    LONGITUDE            (N_PROF) float64 ...\n",
       "    POSITION_QC          (N_PROF) object ...\n",
       "    REFERENCE_DATE_TIME  object ...\n",
       "    TEMP                 (N_PROF, N_LEVELS) float32 ...\n",
       "    TEMP_QC              (N_PROF, N_LEVELS) object ...\n",
       "    TEMP_ADJUSTED        (N_PROF, N_LEVELS) float32 ...\n",
       "    PRES                 (N_PROF, N_LEVELS) float32 ...\n",
       "    PRES_QC              (N_PROF, N_LEVELS) object ...\n",
       "    PRES_ADJUSTED        (N_PROF, N_LEVELS) float32 ...\n",
       "Attributes:\n",
       "    title:                Argo float vertical profile\n",
       "    institution:          \n",
       "    source:               Argo float\n",
       "    history:              2014-07-21T21:28:02Z creation\n",
       "    references:           http://www.argodatamgt.org/Documentation\n",
       "    comment:              \n",
       "    user_manual_version:  3.03\n",
       "    Conventions:          Argo-3.0 CF-1.6\n",
       "    featureType:          trajectoryProfile"
      ]
     },
     "execution_count": 57,
     "metadata": {},
     "output_type": "execute_result"
    }
   ],
   "source": [
    "import xarray as xr\n",
    "import pandas as pd\n",
    "import numpy as np\n",
    "from scipy import interpolate\n",
    "import glob\n",
    "import os\n",
    "import gsw\n",
    "\n",
    "yeart='1975'\n",
    "ROOT='/home/datawork-coriolis-cora-s/CORA_dataset/'\n",
    "path=glob.glob(os.path.join(ROOT+yeart+'/*_PR_*.nc'))\n",
    "path.sort()\n",
    "\n",
    "ind=771\n",
    "print path[ind],ind,'/',len(path)\n",
    "DAT=xr.open_dataset(path[ind],decode_times=False)\n",
    "\n",
    "#CHECK FOR PRES,DEPH,TEMP,PSAL\n",
    "varlist=DAT.keys()\n",
    "#KEEP WHAT WE NEED\n",
    "plus=['PLATFORM_NUMBER','CYCLE_NUMBER','WMO_INST_TYPE','JULD','JULD_QC','LATITUDE','LONGITUDE',\n",
    "      'POSITION_QC','REFERENCE_DATE_TIME']\n",
    "if ('TEMP' in varlist):\n",
    "    plus=np.append(plus,['TEMP','TEMP_QC','TEMP_ADJUSTED'])\n",
    "if ('PRES' in varlist):\n",
    "    plus=np.append(plus,['PRES','PRES_QC','PRES_ADJUSTED'])    \n",
    "if ('DEPH' in varlist):\n",
    "    plus=np.append(plus,['DEPH','DEPH_QC','DEPH_ADJUSTED'])    \n",
    "    \n",
    "DAT=DAT[plus]\n",
    "DAT"
   ]
  },
  {
   "cell_type": "code",
   "execution_count": 58,
   "metadata": {
    "scrolled": true
   },
   "outputs": [
    {
     "data": {
      "text/plain": [
       "<xarray.Dataset>\n",
       "Dimensions:              (N_LEVELS: 58, N_PROF: 1)\n",
       "Dimensions without coordinates: N_LEVELS, N_PROF\n",
       "Data variables:\n",
       "    TEMP                 (N_PROF, N_LEVELS) float32 26.5 26.5 26.48 26.47 ...\n",
       "    REFERENCE_DATE_TIME  (N_PROF) object '19500101000000'\n",
       "    PLATFORM_NUMBER      (N_PROF) object 'FNOY    '\n",
       "    WMO_INST_TYPE        (N_PROF) object '830 '\n",
       "    DC_REFERENCE         (N_PROF) float64 60.0\n",
       "    JULD                 (N_PROF) float64 9.439e+03\n",
       "    LATITUDE             (N_PROF) float64 -9.333\n",
       "    LONGITUDE            (N_PROF) float64 -30.05\n",
       "    DEPTH                (N_PROF, N_LEVELS) float32 0.0 4.9717894 9.943458 ...\n",
       "Attributes:\n",
       "    title:                Argo float vertical profile\n",
       "    institution:          \n",
       "    source:               Argo float\n",
       "    history:              2014-07-21T21:28:02Z creation\n",
       "    references:           http://www.argodatamgt.org/Documentation\n",
       "    comment:              \n",
       "    user_manual_version:  3.03\n",
       "    Conventions:          Argo-3.0 CF-1.6\n",
       "    featureType:          trajectoryProfile"
      ]
     },
     "execution_count": 58,
     "metadata": {},
     "output_type": "execute_result"
    }
   ],
   "source": [
    "if(len(DAT.N_PROF.values)>0):\n",
    "    varlist=DAT.keys()\n",
    "    #REDUCE TO QC=1\n",
    "    mask1 = (np.abs(DAT['TEMP']) != np.nan) & (DAT['TEMP_QC'] == '1')\n",
    "    mask2 = (DAT['JULD_QC'] == '1') & (DAT['POSITION_QC'] == '1')\n",
    "    if ('DEPH' in varlist)&('PRES' in varlist):\n",
    "        mask3=((np.abs(DAT['DEPH'])!=np.nan)|(np.abs(DAT['PRES'])!=np.nan))&((DAT['DEPH_QC']=='1')|(DAT['PRES_QC']=='1'))\n",
    "    elif ('DEPH' in varlist):\n",
    "        mask3=(np.abs(DAT['DEPH']) != np.nan) & (DAT['DEPH_QC'] == '1')\n",
    "    elif ('PRES' in varlist):   \n",
    "        mask3=(np.abs(DAT['PRES']) != np.nan) & (DAT['PRES_QC'] == '1')\n",
    "\n",
    "    DAT = DAT.where(mask1 & mask2 & mask3, drop=True)\n",
    "\n",
    "    if(len(DAT.N_PROF.values)>0):\n",
    "        #AT LEAST 10 POINTS ON PROFILE WITH MIN DEPTH =< 10m & MAX DEPHT >= 700m\n",
    "        if ('DEPH' in varlist)&('PRES' in varlist):\n",
    "            H = DAT['DEPH'].where(DAT['TEMP'].notnull()).max(dim='N_LEVELS')\n",
    "            G = DAT['DEPH'].where(DAT['TEMP'].notnull()).min(dim='N_LEVELS')\n",
    "            Hb = DAT['PRES'].where(DAT['TEMP'].notnull()).max(dim='N_LEVELS')\n",
    "            Gb = DAT['PRES'].where(DAT['TEMP'].notnull()).min(dim='N_LEVELS')\n",
    "            DAT = DAT.where(((H>=700)|(Hb>=710))&((G<=10)|(Gb<=10)),drop=True)    \n",
    "        elif ('DEPH' in varlist):\n",
    "            H = DAT['DEPH'].where(DAT['TEMP'].notnull()).max(dim='N_LEVELS')\n",
    "            G = DAT['DEPH'].where(DAT['TEMP'].notnull()).min(dim='N_LEVELS')\n",
    "            DAT = DAT.where((H>=700)&(G<=10),drop=True)    \n",
    "        elif ('PRES' in varlist):   \n",
    "            H = DAT['PRES'].where(DAT['TEMP'].notnull()).max(dim='N_LEVELS')\n",
    "            G = DAT['PRES'].where(DAT['TEMP'].notnull()).min(dim='N_LEVELS')\n",
    "            DAT = DAT.where((H>=710)&(G<=10),drop=True)\n",
    "\n",
    "        M = DAT['TEMP'].notnull().sum('N_LEVELS')\n",
    "        DAT = DAT.where((M>=10),drop=True) \n",
    "            \n",
    "        #REDUCE DIMENSIONS\n",
    "        DAT['A']=DAT['REFERENCE_DATE_TIME'].min(dim='N_LEVELS')\n",
    "        DAT['C']=DAT['PLATFORM_NUMBER'].min(dim='N_LEVELS')\n",
    "        DAT['D']=DAT['WMO_INST_TYPE'].min(dim='N_LEVELS')\n",
    "        DAT['E']=DAT['CYCLE_NUMBER'].min(dim='N_LEVELS')\n",
    "        DAT['F']=DAT['JULD'].min(dim='N_LEVELS')\n",
    "        DAT['Fb']=DAT['JULD_QC'].min(dim='N_LEVELS')\n",
    "        DAT['G']=DAT['LATITUDE'].min(dim='N_LEVELS')\n",
    "        DAT['H']=DAT['LONGITUDE'].min(dim='N_LEVELS')\n",
    "        DAT['I']=DAT['POSITION_QC'].min(dim='N_LEVELS')\n",
    "        DAT=DAT.drop(['REFERENCE_DATE_TIME','PLATFORM_NUMBER','WMO_INST_TYPE','CYCLE_NUMBER',\n",
    "                     'JULD','JULD_QC','LATITUDE','LONGITUDE','POSITION_QC'])\n",
    "        DAT=DAT.rename({'A':'REFERENCE_DATE_TIME','C':'PLATFORM_NUMBER',\n",
    "                        'D':'WMO_INST_TYPE','E':'DC_REFERENCE','F':'JULD','Fb':'JULD_QC','G':'LATITUDE',\n",
    "                        'H':'LONGITUDE','I':'POSITION_QC'})\n",
    "\n",
    "        if(len(DAT.N_PROF.values)>0):\n",
    "            #KEEP ADJUSTED IF BETTER AND CALCULATE DEPTH WHEN PRES PROVIDED\n",
    "            #CREATE DEPTH ARRAY\n",
    "            DAT=DAT.assign(DEPTH = np.nan*DAT.TEMP)\n",
    "\n",
    "            for i in DAT.N_PROF.values:\n",
    "                if (DAT.TEMP_ADJUSTED[i,:].notnull().sum('N_LEVELS')>=DAT.TEMP[i,:].notnull().sum('N_LEVELS')):\n",
    "                    DAT.TEMP[i,:]=DAT.TEMP_ADJUSTED[i,:].values\n",
    "\n",
    "                if ('DEPH' in varlist)&('PRES' in varlist):\n",
    "                    #ADJUSTED\n",
    "                    if (DAT.DEPH_ADJUSTED[i,:].notnull().sum('N_LEVELS')>=DAT.DEPH[i,:].notnull().sum('N_LEVELS')):\n",
    "                        DAT.DEPH[i,:]=DAT.DEPH_ADJUSTED[i,:].values\n",
    "                    if (DAT.PRES_ADJUSTED[i,:].notnull().sum('N_LEVELS')>=DAT.PRES[i,:].notnull().sum('N_LEVELS')):\n",
    "                        DAT.PRES[i,:]=DAT.PRES_ADJUSTED[i,:].values   \n",
    "                    #CALCULATE DEPTH    \n",
    "                    if (DAT.DEPH[i,:].notnull().sum('N_LEVELS')<DAT.PRES[i,:].notnull().sum('N_LEVELS')):\n",
    "                        DAT.DEPTH[i,:]=gsw.z_from_p(DAT.PRES[0,:].values,DAT.LATITUDE[0])*-1    \n",
    "                    else:\n",
    "                        DAT.DEPTH[i,:]=DAT.DEPH[i,:]\n",
    "\n",
    "                elif ('DEPH' in varlist):\n",
    "                    #ADJUSTED\n",
    "                    if (DAT.DEPH_ADJUSTED[i,:].notnull().sum('N_LEVELS')>=DAT.DEPH[i,:].notnull().sum('N_LEVELS')):\n",
    "                        DAT.DEPH[i,:]=DAT.DEPH_ADJUSTED[i,:].values\n",
    "                    DAT.DEPTH[i,:]=DAT.DEPH[i,:]    \n",
    "                elif ('PRES' in varlist):   \n",
    "                    #ADJUSTED\n",
    "                    if (DAT.PRES_ADJUSTED[i,:].notnull().sum('N_LEVELS')>=DAT.PRES[i,:].notnull().sum('N_LEVELS')):\n",
    "                        DAT.PRES[i,:]=DAT.PRES_ADJUSTED[i,:].values\n",
    "                    #CALCULATE DEPTH                \n",
    "                    DAT.DEPTH[i,:]=gsw.z_from_p(DAT.PRES[i,:].values,DAT.LATITUDE[i])*-1\n",
    "\n",
    "            if ('PRES' in varlist):   \n",
    "                DAT=DAT.drop(['PRES','PRES_ADJUSTED','PRES_QC'])    \n",
    "            if ('DEPH' in varlist):   \n",
    "                DAT=DAT.drop(['DEPH','DEPH_ADJUSTED','DEPH_QC'])    \n",
    "            DAT=DAT.drop(['TEMP_ADJUSTED','TEMP_QC','JULD_QC','POSITION_QC'])    \n",
    "\n",
    "DAT"
   ]
  },
  {
   "cell_type": "code",
   "execution_count": 66,
   "metadata": {},
   "outputs": [
    {
     "data": {
      "text/plain": [
       "701.2865187660982"
      ]
     },
     "execution_count": 66,
     "metadata": {},
     "output_type": "execute_result"
    }
   ],
   "source": [
    "gsw.z_from_p(710,-80)*-1"
   ]
  },
  {
   "cell_type": "code",
   "execution_count": 21,
   "metadata": {},
   "outputs": [
    {
     "data": {
      "image/png": "[encoded data removed]",
      "text/plain": [
       "<Figure size 432x288 with 1 Axes>"
      ]
     },
     "metadata": {},
     "output_type": "display_data"
    }
   ],
   "source": [
    "import matplotlib.pyplot as plt\n",
    "#plt.plot(DAT.TEMP,DAT.DEPTH,'.k')\n",
    "DAT.TEMP.plot.line(y='N_LEVELS')\n",
    "plt.gca().invert_yaxis()\n",
    "plt.gca().get_legend().remove()\n",
    "plt.show()"
   ]
  },
  {
   "cell_type": "code",
   "execution_count": 53,
   "metadata": {},
   "outputs": [],
   "source": [
    "if(len(DAT.N_PROF.values)>0):\n",
    "    #INTERPOLATION OF GOOD PROFILES\n",
    "    new_depth=np.arange(5,705,5)\n",
    "    #init new dataset\n",
    "    new_ds=xr.Dataset({'temp':(['N_PROF','DEPTH'],np.empty([len(DAT.N_PROF.values),len(new_depth)])*np.nan),\n",
    "                       'latitude':(['N_PROF'],DAT.LATITUDE.values),\n",
    "                       'longitude':(['N_PROF'],DAT.LONGITUDE.values),\n",
    "                       'juld':(['N_PROF'],DAT.JULD.values),\n",
    "                       'platform_number':(['N_PROF'],DAT.PLATFORM_NUMBER.values),\n",
    "                       'wmo_inst_type':(['N_PROF'],DAT.WMO_INST_TYPE.values),\n",
    "                      },\n",
    "                      coords={'DEPTH':new_depth})   \n",
    "    new_ds.attrs=DAT.attrs\n",
    "    new_ds.temp.attrs=DAT.TEMP.attrs\n",
    "    new_ds.latitude.attrs=DAT.LATITUDE.attrs\n",
    "    new_ds.longitude.attrs=DAT.LONGITUDE.attrs\n",
    "    new_ds.juld.attrs=DAT.JULD.attrs\n",
    "    new_ds.platform_number.attrs=DAT.PLATFORM_NUMBER.attrs\n",
    "    new_ds.wmo_inst_type.attrs=DAT.WMO_INST_TYPE.attrs\n",
    "\n",
    "    for i in DAT.N_PROF.values :\n",
    "        f=interpolate.interp1d(np.append(0,DAT.DEPTH[i,:].values),np.append(DAT.TEMP[i,0].values,DAT.TEMP[i,:].values),\n",
    "                              kind='linear',bounds_error='False')\n",
    "        new_ds.temp[i,:]=f(new_depth)\n"
   ]
  },
  {
   "cell_type": "code",
   "execution_count": 45,
   "metadata": {},
   "outputs": [
    {
     "data": {
      "image/png": "[encoded data removed]",
      "text/plain": [
       "<Figure size 432x288 with 1 Axes>"
      ]
     },
     "metadata": {},
     "output_type": "display_data"
    }
   ],
   "source": [
    "new_ds.temp.plot.line(y='DEPTH')\n",
    "plt.gca().invert_yaxis()\n",
    "plt.gca().get_legend().remove()\n",
    "plt.show()"
   ]
  }
 ],
 "metadata": {
  "kernelspec": {
   "display_name": "Python [default]",
   "language": "python",
   "name": "python2"
  },
  "language_info": {
   "codemirror_mode": {
    "name": "ipython",
    "version": 2
   },
   "file_extension": ".py",
   "mimetype": "text/x-python",
   "name": "python",
   "nbconvert_exporter": "python",
   "pygments_lexer": "ipython2",
   "version": "2.7.15"
  }
 },
 "nbformat": 4,
 "nbformat_minor": 2
}
